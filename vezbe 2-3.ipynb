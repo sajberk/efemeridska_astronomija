{
 "cells": [
  {
   "cell_type": "markdown",
   "id": "34f97fd6",
   "metadata": {},
   "source": [
    "## Efemeridska astronomija - Vežbe 2 i 3"
   ]
  },
  {
   "cell_type": "markdown",
   "id": "3b08c4c9",
   "metadata": {},
   "source": [
    "**1. U kom sazvežđu se nalazio Uran u trenutku njegovog otkrića 13. marta 1781. godine? Koje su bile njegove ekvatorske koordinate i magnituda?**"
   ]
  },
  {
   "cell_type": "markdown",
   "id": "857aa6ef",
   "metadata": {},
   "source": [
    "Ključ za rešavanje ovog zadatka je funkcija *constellation*, koja za dato nebesko telo vraća ime sazvežđa u kom se ono nalazi. \n",
    "\n",
    "PyEphem ovo omogućuje tako što koordinate prosleđenog tela upoređuje sa vrednostima iz tabele lokacija sazvežđa koju je odredila Međunarodna Astronomska Unija, a koja se može naći na [ovom linku](https://github.com/brandon-rhodes/pyephem/blob/master/libastro/constel.c)."
   ]
  },
  {
   "cell_type": "code",
   "execution_count": 1,
   "id": "a14bc932",
   "metadata": {},
   "outputs": [
    {
     "name": "stdout",
     "output_type": "stream",
     "text": [
      "Kada je otkriven, Uran se nalazio u sazvežđu Taurus\n",
      "\n",
      "Njegove koordinate u tom trenutku su bile: \n",
      "        \tRektascenzija: 5:35:45.28\n",
      "        \tDeklinacija: 23:32:54.1\n",
      "\n",
      "Njegova magnituda je iznosila 5.6\n",
      "\n"
     ]
    }
   ],
   "source": [
    "import ephem\n",
    "\n",
    "uranus = ephem.Uranus()\n",
    "uranus.compute(\"1781/3/13\")\n",
    "\n",
    "print(f\"Kada je otkriven, Uran se nalazio u sazvežđu {ephem.constellation(uranus)[1]}\\n\")\n",
    "print(f\"\"\"Njegove koordinate u tom trenutku su bile: \n",
    "        \\tRektascenzija: {uranus.ra}\n",
    "        \\tDeklinacija: {uranus.dec}\\n\"\"\")\n",
    "print(f\"Njegova magnituda je iznosila {uranus.mag}\\n\")"
   ]
  },
  {
   "cell_type": "markdown",
   "id": "1f61cc88",
   "metadata": {},
   "source": [
    "**2. Odrediti na kom rastojanju od Jupitera se nalazio neotkriveni Neptun kada ih je Galileo skupa posmatrao 28. decembra 1612. godine.**"
   ]
  },
  {
   "cell_type": "markdown",
   "id": "77132f5d",
   "metadata": {},
   "source": [
    "Ovaj zadatak rešavamo funkcijom *separation*, koja nam vraća ugaono rastojanje između dva nebeska tela koja joj prosledimo."
   ]
  },
  {
   "cell_type": "code",
   "execution_count": 2,
   "id": "d5eb9147",
   "metadata": {},
   "outputs": [
    {
     "name": "stdout",
     "output_type": "stream",
     "text": [
      "Ugaono rastojanje između Jupitera i Neptuna je tada iznosilo 0:14:24.6\n",
      "\n"
     ]
    }
   ],
   "source": [
    "jupiter = ephem.Jupiter(\"1612/12/28\")\n",
    "neptune = ephem.Neptune(\"1612/12/28\")\n",
    "\n",
    "rastojanje = ephem.separation(jupiter, neptune)\n",
    "\n",
    "print(f\"Ugaono rastojanje između Jupitera i Neptuna je tada iznosilo {rastojanje}\\n\")"
   ]
  },
  {
   "cell_type": "markdown",
   "id": "0f88692f",
   "metadata": {},
   "source": [
    "**3. Odrediti koji put pređe Mars u toku jednog dana krećući se po perihelu, a potom i po afelu. Utvrditi blizu koje od ovih tačaka se kreće brže.\n",
    "[Napomena: koristiti heliocentrične koordinate] (Za ovo je neophodno naći datume kada se poslednji put našao u ovim tačkama)**"
   ]
  },
  {
   "cell_type": "markdown",
   "id": "a675b64e",
   "metadata": {},
   "source": [
    "Za ovaj zadatak koristimo i biblioteku *datetime* koja nam omogućava lakše baratanje datumima. Definišemo i dve korisničke funkcije:\n",
    "- *get_last_apo_peri(body)*, koja za dato telo redom vraća datume kada se poslednji put našao u afelu i perihelu, tako što pamti datume kada je njegova udaljenost od Sunca bila najmanja tj najveća.\n",
    "- *daily_mars_separation(date)*, koja za prosleđeni datum računa ugaono rastojanje položaja Marsa tada i sutradan."
   ]
  },
  {
   "cell_type": "code",
   "execution_count": 3,
   "id": "454156e8",
   "metadata": {},
   "outputs": [
    {
     "name": "stdout",
     "output_type": "stream",
     "text": [
      "Rastojanje koje Mars dnevno pređe u perihelu: \n",
      "0:43:11.3\n",
      "Rastojanje koje Mars dnevno pređe u afelu: \n",
      "0:37:23.0\n",
      "\n",
      "Dakle, brže se kreće u perihelu.\n",
      "\n"
     ]
    }
   ],
   "source": [
    "import datetime\n",
    "\n",
    "def get_last_apo_peri(body):\n",
    "    body.compute(\"2022\")\n",
    "    \n",
    "    last_perihelion = \"\"\n",
    "    min_distance = mars.sun_distance\n",
    "\n",
    "    last_aphelion = \"\"\n",
    "    max_distance = mars.sun_distance\n",
    "\n",
    "    now = datetime.datetime.now()\n",
    "    for i in range(687): # mars' orbital period\n",
    "        offset = datetime.timedelta(days=i)\n",
    "        mars.compute(now-offset)\n",
    "\n",
    "        if mars.sun_distance < min_distance:\n",
    "            min_distance = mars.sun_distance\n",
    "            last_perihelion = now - offset\n",
    "\n",
    "        if mars.sun_distance > max_distance:\n",
    "            max_distance = mars.sun_distance\n",
    "            last_aphelion = now - offset\n",
    "            \n",
    "    return last_aphelion, last_perihelion\n",
    "    \n",
    "\n",
    "def mars_daily_separation(date):\n",
    "    one_day = ephem.Mars(date)\n",
    "    next_day = ephem.Mars(date + datetime.timedelta(days=1))\n",
    "\n",
    "    return ephem.separation(one_day, next_day)\n",
    "    \n",
    "    \n",
    "    \n",
    "mars = ephem.Mars()\n",
    "\n",
    "last_aphelion, last_perihelion = get_last_apo_peri(mars)\n",
    "\n",
    "print(\"Rastojanje koje Mars dnevno pređe u perihelu: \")\n",
    "print(mars_daily_separation(last_perihelion))\n",
    "\n",
    "print(\"Rastojanje koje Mars dnevno pređe u afelu: \")\n",
    "print(mars_daily_separation(last_aphelion))\n",
    "\n",
    "print(\"\\nDakle, brže se kreće u perihelu.\\n\")"
   ]
  },
  {
   "cell_type": "markdown",
   "id": "ac57f2e5",
   "metadata": {},
   "source": [
    "**4. Odrediti deklinaciju Marsa na današnji datum i dati rezultat u različitim formatima: dd:mm:ss (string) i radijanima (float).**"
   ]
  },
  {
   "cell_type": "markdown",
   "id": "b80f4592",
   "metadata": {},
   "source": [
    "Biblioteka PyEphem uglove čuva u formatu koji nam pruža lak pristup i vrednosti ugla u stepenima i u radijanima. Kada je štampamo kao string, vrednost će biti stepenima, lučnim minutima i lučnim sekundama. Kada je štampamo kao float, vrednost će biti prikazana u radijanima."
   ]
  },
  {
   "cell_type": "code",
   "execution_count": 4,
   "id": "14a87593",
   "metadata": {},
   "outputs": [
    {
     "name": "stdout",
     "output_type": "stream",
     "text": [
      "Deklinacija Marsa danas:\n",
      "\tU stepenima: 24:45:53.6\n",
      "\tU radijanima: 0.4322289039047705\n",
      "\n"
     ]
    }
   ],
   "source": [
    "mars = ephem.Mars()\n",
    "mars.compute()\n",
    "\n",
    "print(\"Deklinacija Marsa danas:\")\n",
    "print(f\"\\tU stepenima: {str(mars.dec)}\")\n",
    "print(f\"\\tU radijanima: {float(mars.dec)}\\n\")"
   ]
  },
  {
   "cell_type": "markdown",
   "id": "707b6647",
   "metadata": {},
   "source": [
    "**5. Koristeći prethodno urađen zadatak, odrediti rastojanje Marsa u afelu u a.j., a zatim odrediti koju površinu prebriše u toku jednog dana (pps. pravougli trougao). Isto to odraditi i za perihel i pokazati da važi 2. Keplerov zakon.**"
   ]
  },
  {
   "cell_type": "markdown",
   "id": "f0b861ba",
   "metadata": {},
   "source": [
    "Za ovaj zadatak ćemo koristiti funkciju *get_last_apo_peri* od pre par zadataka. Ideja je da definišemo dva objekta, *mars* i *mars1*, koji čuva podatke za Mars jedan dan kasnije.\n",
    "\n",
    "Funkcija *separation* će podrazumevano računati geocentričnu separaciju dva tela, i zato moramo eksplicitno da joj prosledimo heliocentrične koordinate Marsa (*mars.hlon* i *mars.hlat*).\n",
    "\n",
    "Kako bismo dobili površinu koju Mars prebriše u toku jednog dana, posmatraćemo trougao čija su temena *mars*, *mars1* i Sunce, i aproksimiraćemo ga ravanskim trouglom. Najmanja stranica, koja povezuje *mars* i *mars1* je aproksimirana njihovim ugaonim rastojanjem. Za drugu katetu uzimamo rastojanje između jednog od Marseva i Sunca. Klasičnom formulom za površinu trougla, P=a\\*ha/2, dolazimo do rešenja."
   ]
  },
  {
   "cell_type": "code",
   "execution_count": 5,
   "id": "58ded00d",
   "metadata": {},
   "outputs": [
    {
     "name": "stdout",
     "output_type": "stream",
     "text": [
      "Površina koju Mars za dan prebriše u afelu:\n",
      "0.010571848589942309\n",
      "Površina koju Mars za dan prebriše u perihelu:\n",
      "0.010571031240891145\n"
     ]
    }
   ],
   "source": [
    "mars = ephem.Mars()\n",
    "mars1 = ephem.Mars()\n",
    "\n",
    "last_aphelion, last_perihelion = get_last_apo_peri(mars)\n",
    "\n",
    "mars.compute(last_aphelion)\n",
    "mars1.compute(last_aphelion + datetime.timedelta(days=1))\n",
    "print(\"Površina koju Mars za dan prebriše u afelu:\")\n",
    "print(mars.sun_distance*mars.sun_distance*ephem.separation((mars.hlon, mars.hlat), (mars1.hlon, mars1.hlat))/2)\n",
    "\n",
    "mars.compute(last_perihelion)\n",
    "mars1.compute(last_perihelion + datetime.timedelta(days=1))\n",
    "print(\"Površina koju Mars za dan prebriše u perihelu:\")\n",
    "print(mars.sun_distance*mars.sun_distance*ephem.separation((mars.hlon, mars.hlat), (mars1.hlon, mars1.hlat))/2)"
   ]
  },
  {
   "cell_type": "markdown",
   "id": "2b71dd5d",
   "metadata": {},
   "source": [
    "**6. Odrediti i odštampati UTC i lokalno vreme za Beograd na današnji dan.**"
   ]
  },
  {
   "cell_type": "markdown",
   "id": "64b9b860",
   "metadata": {},
   "source": [
    "PyEphem sadrži funkciju *now* koja vraća trenutno UTC vreme. Takođe postoji i funkcija *localtime(date)*, koja će prosleđeni datum konvertovati u vremensku zonu na koju je podešen računar na kom se program pokreće. \n",
    "\n",
    "Informacije poput trenutnog vremena i vremenske zone PyEphem dobija od biblioteke *time* koja je sastavni deo programskog jezika Python, a ta biblioteka od računara podatke dobija pomoću sopstvenih biblioteka pisanih u jeziku C, koje u ovu svrhu koriste sistemske pozive, pa informacije zahtevaju direktno od operativnog sistema korisnika."
   ]
  },
  {
   "cell_type": "code",
   "execution_count": 6,
   "id": "16681d02",
   "metadata": {},
   "outputs": [
    {
     "name": "stdout",
     "output_type": "stream",
     "text": [
      "UTC: 2022/12/23 10:15:16\n",
      "BGD: 2022-12-23 11:15:16\n"
     ]
    }
   ],
   "source": [
    "bg = ephem.Observer()\n",
    "\n",
    "print(f\"UTC: {ephem.now()}\")\n",
    "bg.lon = 20.457273\n",
    "bg.lat = 44.787197\n",
    "print(f\"BGD: {ephem.localtime(bg.date)}\")"
   ]
  },
  {
   "cell_type": "markdown",
   "id": "fedbffd5",
   "metadata": {},
   "source": [
    "**7. Odrediti današnji datum u broju dana čiji je početak perenja počeo 31. decembra 1899. godine u podne. Potom koristeći se tim rezultatom ponovo odštampati naredni dan.**"
   ]
  },
  {
   "cell_type": "markdown",
   "id": "54cbbeba",
   "metadata": {},
   "source": [
    "Ključ za rešavanje ovog zadatka je u načinu na koji PyEphem skladišti datume, tj u prepoznavanju da su svi datumi u ovoj biblioteci predstavljeni kao broj dana od 31. decembra 1899. godine.\n",
    "\n",
    "PyEphem ima i ugrađen jednostavan sistem za baratanje datumima kroz funkciju *Date*. Ona nam omogućava da od brojevne vrednosti napravimo odgovarajući datum."
   ]
  },
  {
   "cell_type": "code",
   "execution_count": 7,
   "id": "3d2d36ae",
   "metadata": {},
   "outputs": [
    {
     "name": "stdout",
     "output_type": "stream",
     "text": [
      "PyEphem datume predstavlja kao broj dana od 31.12.1899. godine u podne\n",
      "Taj broj dobijamo iz funkcije ephem.now()\n",
      "44916.92773148148\n",
      "2022/12/23 10:15:56\n",
      "44917.92773148148\n",
      "2022/12/24 10:15:56\n"
     ]
    }
   ],
   "source": [
    "print(\"PyEphem datume predstavlja kao broj dana od 31.12.1899. godine u podne\")\n",
    "print(\"Taj broj dobijamo iz funkcije ephem.now()\")\n",
    "\n",
    "print(float(ephem.now()))\n",
    "print(str(ephem.now()))\n",
    "\n",
    "print(float(ephem.now()+1))\n",
    "print(ephem.Date(ephem.now()+1))"
   ]
  },
  {
   "cell_type": "markdown",
   "id": "54d67334",
   "metadata": {},
   "source": [
    "**8. Definisati današnji datum pomoću float, string i tuple tipa podataka.**"
   ]
  },
  {
   "cell_type": "markdown",
   "id": "f186106e",
   "metadata": {},
   "source": [
    "Ovo su tri vrste ispisa koje podržava PyEphem. "
   ]
  },
  {
   "cell_type": "code",
   "execution_count": 8,
   "id": "e7a2b305",
   "metadata": {},
   "outputs": [
    {
     "name": "stdout",
     "output_type": "stream",
     "text": [
      "44916.92833333333\n",
      "2022/12/23 10:16:48\n",
      "(2022, 12, 23, 10, 16, 48.0)\n"
     ]
    }
   ],
   "source": [
    "print(float(ephem.now()))\n",
    "print(str(ephem.now()))\n",
    "print(ephem.now().tuple())"
   ]
  },
  {
   "cell_type": "markdown",
   "id": "5e241df8",
   "metadata": {},
   "source": [
    "**9. Definisati posmatrača u Beogradu na datum i vreme početka ovonedeljnih vežbi, a potom odrediti položaje Sunca i Meseca u horizontskom koordinatnom sistemu za tog posmatrača**"
   ]
  },
  {
   "cell_type": "code",
   "execution_count": 9,
   "id": "f29a55aa",
   "metadata": {},
   "outputs": [
    {
     "name": "stdout",
     "output_type": "stream",
     "text": [
      "Sunce:\n",
      " Az: 145:18:17.7\n",
      " H: 25:38:05.6\n",
      "\n",
      "Mesec:\n",
      " Az: 128:53:34.4\n",
      " H: 5:49:48.4\n",
      "\n"
     ]
    }
   ],
   "source": [
    "bg = ephem.Observer()\n",
    "bg.lon = \"20.457273\"\n",
    "bg.lat = \"44.787197\"\n",
    "bg.date = (2022, 10, 27, 8, 15, 0) #UTC = CEST - 2 (letnje računanje)\n",
    "\n",
    "sun = ephem.Sun(bg)\n",
    "print(f\"Sunce:\\n Az: {sun.az}\\n H: {sun.alt}\\n\")\n",
    "\n",
    "moon = ephem.Moon(bg)\n",
    "print(f\"Mesec:\\n Az: {moon.az}\\n H: {moon.alt}\\n\")"
   ]
  },
  {
   "cell_type": "markdown",
   "id": "549860e7",
   "metadata": {},
   "source": [
    "**10. Uraditi isto kao i u prethodnom zadatku (Begorad), samo za datum i vreme: 25. oktobar 2022. u 12:25 kada se dogodilo pomračenje Sunca. Na osnovu prividne veličine objekata, odrediti kom tipu ovo pomračenje pripada: delimičnom, prstenastom ili potpunom.**"
   ]
  },
  {
   "cell_type": "markdown",
   "id": "086f4958",
   "metadata": {},
   "source": [
    "Na osnovu prethodnog zadatka možemo lako da dobijemo podatke o lokacijama centara Sunca i Meseca na nebu u trenutku pomračenja. Ipak, kako ova nebeska tela imaju nezanemarljivu površinu na nebu, moramo ih uzeti u obzir. Tu nam pomaže atribut *size*, koji nam govori koliko lučnih sekundi iznosi ugaoni poluprečnik ovih tela na nebu. \n",
    "\n",
    "Možemo da plotujemo krugove odgovarajućih poluprečnika koji predstavljaju Sunce i Mesec na nebu, i lako utvrdimo da je u pitanju delimično pomračenje."
   ]
  },
  {
   "cell_type": "code",
   "execution_count": 10,
   "id": "6b69863f",
   "metadata": {},
   "outputs": [
    {
     "name": "stdout",
     "output_type": "stream",
     "text": [
      "Sunce:\n",
      " Az: 197:10:44.5\n",
      " H: 31:28:18.0\n",
      "\n",
      "1929.989501953125\n",
      "Mesec:\n",
      " Az: 3.432562828063965\n",
      " H: 31:36:41.9\n",
      "\n",
      "1924.995849609375\n"
     ]
    },
    {
     "data": {
      "image/png": "[encoded data removed]",
      "text/plain": [
       "<Figure size 640x480 with 1 Axes>"
      ]
     },
     "metadata": {},
     "output_type": "display_data"
    }
   ],
   "source": [
    "import matplotlib.pyplot as plt\n",
    "import numpy as np\n",
    "\n",
    "bg.date = (2022, 10, 25, 11, 22, 0) #UTC = CEST - 2 (letnje računanje)\n",
    "sun = ephem.Sun(bg)\n",
    "print(f\"Sunce:\\n Az: {sun.az}\\n H: {sun.alt}\\n\")\n",
    "print(sun.size)\n",
    "\n",
    "moon = ephem.Moon(bg)\n",
    "print(f\"Mesec:\\n Az: {float(moon.az)}\\n H: {moon.alt}\\n\")\n",
    "print(moon.size)\n",
    "\n",
    "theta = np.linspace(0, 2*np.pi, 100)\n",
    "r = sun.size/3600*np.pi/180\n",
    "x = sun.az + r*np.cos(theta)\n",
    "y = sun.alt + r*np.sin(theta)\n",
    "plt.plot(x, y, label=\"Sunce\")\n",
    "\n",
    "r = moon.size/3600*np.pi/180\n",
    "x = moon.az + r*np.cos(theta)\n",
    "y = moon.alt + r*np.sin(theta)\n",
    "plt.plot(x, y, label=\"Mesec\")\n",
    "plt.axis(\"equal\")\n",
    "plt.legend()\n",
    "plt.show()"
   ]
  },
  {
   "cell_type": "markdown",
   "id": "7eb05d13",
   "metadata": {},
   "source": [
    "**11. Odrediti promenu prividne uglovne brzine Sunca tokom zalaska. Da li račun uzima u obzir prelamanje svetlosti u atmosferi? Potom promeniti vrednosti pritiska definisanog posmatrača na vrednosti 0. Da li sada uzima u obzir prelamanje svetlosti?**"
   ]
  },
  {
   "cell_type": "markdown",
   "id": "2e199d00",
   "metadata": {},
   "source": [
    "Za ovaj zadatak ćemo proveravati promenu ugaonog rastojanja položaja Sunca nakon svakog minuta, nekoliko minuta nakon što se centar Sunčevog diska nađe na horizontu. \n",
    "\n",
    "Nakon prve iteracije, vidimo da se brzina zalaska smanjuje od horizonta. Kako znamo da se Sunce uvek kreće istom brzinom, zaključujemo da je u pitanju iluzija nastala usled uticaja refrakcije. Postavljanjem pritiska posmatrača na nulu eliminišemo ovaj uticaj, i vidimo da je brzina zalaska postala konstantna."
   ]
  },
  {
   "cell_type": "code",
   "execution_count": 11,
   "id": "3a9343a3",
   "metadata": {},
   "outputs": [
    {
     "name": "stdout",
     "output_type": "stream",
     "text": [
      "0:13:22.2 ugaonih stepeni po minutu na visini od 0:00:00.5 stepeni\n",
      "0:13:17.9 ugaonih stepeni po minutu na visini od -0:08:08.1 stepeni\n",
      "0:13:13.6 ugaonih stepeni po minutu na visini od -0:16:10.2 stepeni\n",
      "0:13:09.0 ugaonih stepeni po minutu na visini od -0:24:05.6 stepeni\n",
      "0:13:04.3 ugaonih stepeni po minutu na visini od -0:31:54.0 stepeni\n",
      "0:12:59.6 ugaonih stepeni po minutu na visini od -0:39:35.4 stepeni\n",
      "\n",
      "0:14:28.5 ugaonih stepeni po minutu na visini od 0:00:00.5 stepeni\n",
      "0:14:28.6 ugaonih stepeni po minutu na visini od -0:09:54.1 stepeni\n",
      "0:14:28.6 ugaonih stepeni po minutu na visini od -0:19:49.4 stepeni\n",
      "0:14:28.6 ugaonih stepeni po minutu na visini od -0:29:45.4 stepeni\n",
      "0:14:28.5 ugaonih stepeni po minutu na visini od -0:39:42.1 stepeni\n",
      "0:14:28.6 ugaonih stepeni po minutu na visini od -0:49:39.5 stepeni\n",
      "\n"
     ]
    }
   ],
   "source": [
    "sun = ephem.Sun()\n",
    "bg = ephem.Observer()\n",
    "bg.lat = '44.787197'\n",
    "bg.lon = '20.457273'\n",
    "\n",
    "def show(date):\n",
    "    bg.date = date\n",
    "    sun.compute(bg)\n",
    "    bg.date = bg.next_setting(sun, use_center=True) - ephem.minute\n",
    "    sun.compute(bg)\n",
    "\n",
    "    for i in range(6):\n",
    "        old_az, old_alt = sun.az, sun.alt\n",
    "        bg.date += ephem.minute\n",
    "        sun.compute(bg)\n",
    "        sep = ephem.separation((old_az, old_alt), (sun.az, sun.alt))\n",
    "        print(f\"{sep} ugaonih stepeni po minutu na visini od {sun.alt} stepeni\")\n",
    "    \n",
    "    print()\n",
    "    return\n",
    "    \n",
    "show(\"2022/11/3\")\n",
    "bg.pressure = 0\n",
    "show(\"2022/11/3\")"
   ]
  },
  {
   "cell_type": "markdown",
   "id": "cdf59561",
   "metadata": {},
   "source": [
    "**12. Odrediti koje od planeta su vidljive za definisanog posmatrača iz Beograda? Odštampati njihove horizontske koordinate i magnitude.**"
   ]
  },
  {
   "cell_type": "markdown",
   "id": "553e08e0",
   "metadata": {},
   "source": [
    "Za ovaj zadatak je dovoljno da proveravamo da li je visina planete za posmatrača u Beogradu iznad nule. Takođe, da se kod za proveru i štampanje ne bi ponavljao osam puta, odvojićemo ga u zasebnu funkciju."
   ]
  },
  {
   "cell_type": "code",
   "execution_count": 12,
   "id": "edee453e",
   "metadata": {},
   "outputs": [
    {
     "name": "stdout",
     "output_type": "stream",
     "text": [
      "Planete vidljive iz Beograda sada:\n",
      "\n",
      "Mercury\n",
      "Az: 154:42:23.2\n",
      "H: 18:07:47.4\n",
      "M: -0.24\n",
      "\n",
      "Venus\n",
      "Az: 159:44:38.7\n",
      "H: 19:04:33.8\n",
      "M: -3.78\n",
      "\n",
      "Saturn\n",
      "Az: 124:35:45.6\n",
      "H: 10:38:47.2\n",
      "M: 0.82\n",
      "\n",
      "Neptune\n",
      "Az: 95:15:19.9\n",
      "H: 0:10:45.1\n",
      "M: 7.9\n",
      "\n"
     ]
    }
   ],
   "source": [
    "bg = ephem.Observer()\n",
    "bg.lon = \"20.457273\"\n",
    "bg.lat = \"44.787197\"\n",
    "\n",
    "def print_if_visible(body):\n",
    "    body.compute(bg)\n",
    "    \n",
    "    if body.alt < 0:\n",
    "        return\n",
    "    \n",
    "    print(body.name)\n",
    "    print(f\"Az: {body.az}\")\n",
    "    print(f\"H: {body.alt}\")\n",
    "    print(f\"M: {body.mag}\\n\")\n",
    "\n",
    "\n",
    "print(\"Planete vidljive iz Beograda sada:\\n\")\n",
    "print_if_visible(ephem.Mercury())\n",
    "print_if_visible(ephem.Venus())\n",
    "print_if_visible(ephem.Mars())\n",
    "print_if_visible(ephem.Jupiter())\n",
    "print_if_visible(ephem.Saturn())\n",
    "print_if_visible(ephem.Uranus())\n",
    "print_if_visible(ephem.Neptune())"
   ]
  },
  {
   "cell_type": "markdown",
   "id": "04663add",
   "metadata": {},
   "source": [
    "**13. Definisati posmatrača u Beogradu i u odnosu na tog posmatrača pozvati zvezdu Polaris. potom odrediti deklinaciju:**\n",
    "- a) na današnji dan za epohu 2000;\n",
    "- b) na današnji dan za epohu 1000;\n",
    "- c) na prvi dan 1000. godine za epohu 2000;\n",
    "- c) na prvi dan 1000. godine za epohu 1000.\n",
    "\n",
    "**Koji je razlog različitih vrednosti ovih deklinacija?**"
   ]
  },
  {
   "cell_type": "markdown",
   "id": "6b4042fd",
   "metadata": {},
   "source": [
    "Metodi *compute* se može proslediti i informacija o željenoj epohi. Kada ovako računamo koordinate zvezde, ne možemo se osloniti na ustaljeni atribut za deklinaciju *dec*, već moramo koristiti atribut *a_dec*, koji predstavlja astrometrijsku deklinaciju za određenu epohu."
   ]
  },
  {
   "cell_type": "code",
   "execution_count": 13,
   "id": "3374b749",
   "metadata": {},
   "outputs": [
    {
     "name": "stdout",
     "output_type": "stream",
     "text": [
      "89:15:50.5\n",
      "83:47:35.8\n",
      "89:16:02.5\n",
      "83:47:25.5\n"
     ]
    }
   ],
   "source": [
    "polaris = ephem.star(\"Polaris\")\n",
    "\n",
    "polaris.compute(epoch=\"2000\")\n",
    "print(polaris.a_dec)\n",
    "\n",
    "polaris.compute(epoch=\"1000\")\n",
    "print(polaris.a_dec)\n",
    "\n",
    "polaris.compute(\"1000\", epoch=\"2000\")\n",
    "print(polaris.a_dec)\n",
    "\n",
    "polaris.compute(\"1000\", epoch=\"1000\")\n",
    "print(polaris.a_dec)"
   ]
  }
 ],
 "metadata": {
  "kernelspec": {
   "display_name": "Python 3 (ipykernel)",
   "language": "python",
   "name": "python3"
  },
  "language_info": {
   "codemirror_mode": {
    "name": "ipython",
    "version": 3
   },
   "file_extension": ".py",
   "mimetype": "text/x-python",
   "name": "python",
   "nbconvert_exporter": "python",
   "pygments_lexer": "ipython3",
   "version": "3.10.8"
  }
 },
 "nbformat": 4,
 "nbformat_minor": 5
}
