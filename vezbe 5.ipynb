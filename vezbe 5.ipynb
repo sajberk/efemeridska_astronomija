{
 "cells": [
  {
   "cell_type": "markdown",
   "id": "b8d7b49d",
   "metadata": {},
   "source": [
    "## MESEC"
   ]
  },
  {
   "cell_type": "code",
   "execution_count": null,
   "id": "cc9f3c45",
   "metadata": {},
   "outputs": [],
   "source": [
    "import ephem\n",
    "\n",
    "print(f\"Prethodni pun Mesec je bio \")"
   ]
  }
 ],
 "metadata": {
  "kernelspec": {
   "display_name": "Python 3 (ipykernel)",
   "language": "python",
   "name": "python3"
  },
  "language_info": {
   "codemirror_mode": {
    "name": "ipython",
    "version": 3
   },
   "file_extension": ".py",
   "mimetype": "text/x-python",
   "name": "python",
   "nbconvert_exporter": "python",
   "pygments_lexer": "ipython3",
   "version": "3.10.7"
  }
 },
 "nbformat": 4,
 "nbformat_minor": 5
}
