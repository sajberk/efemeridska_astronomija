{
 "cells": [
  {
   "cell_type": "markdown",
   "id": "34f97fd6",
   "metadata": {},
   "source": [
    "# Efemeridska astronomija - Vežbe 2"
   ]
  },
  {
   "cell_type": "markdown",
   "id": "3b08c4c9",
   "metadata": {},
   "source": [
    "**1. U kom sazvežđu se nalazio Uran u trenutku njegovog otkrića 13. marta 1781. godine? Koje su bile njegove ekvatorske koordinate i magnituda?**"
   ]
  },
  {
   "cell_type": "code",
   "execution_count": 2,
   "id": "a14bc932",
   "metadata": {},
   "outputs": [
    {
     "name": "stdout",
     "output_type": "stream",
     "text": [
      "Kada je otkriven, Uran se nalazio u sazvežđu Taurus\n",
      "\n",
      "Njegove koordinate u tom trenutku su bile: \n",
      "        \tRektascenzija: 5:35:45.28\n",
      "        \tDeklinacija: 23:32:54.1\n",
      "\n",
      "Njegova magnituda je iznosila 5.6\n",
      "\n"
     ]
    }
   ],
   "source": [
    "import ephem\n",
    "\n",
    "uranus = ephem.Uranus()\n",
    "uranus.compute(\"1781/3/13\")\n",
    "\n",
    "print(f\"Kada je otkriven, Uran se nalazio u sazvežđu {ephem.constellation(uranus)[1]}\\n\")\n",
    "print(f\"\"\"Njegove koordinate u tom trenutku su bile: \n",
    "        \\tRektascenzija: {uranus.ra}\n",
    "        \\tDeklinacija: {uranus.dec}\\n\"\"\")\n",
    "print(f\"Njegova magnituda je iznosila {uranus.mag}\\n\")"
   ]
  },
  {
   "cell_type": "markdown",
   "id": "1f61cc88",
   "metadata": {},
   "source": [
    "**2. Odrediti na kom rastojanju od Jupitera se nalazio neotkriveni Neptun kada ih je Galileo skupa posmatrao 28. decembra 1612. godine.**"
   ]
  },
  {
   "cell_type": "code",
   "execution_count": null,
   "id": "d5eb9147",
   "metadata": {},
   "outputs": [],
   "source": [
    "jupiter = ephem.Jupiter(\"1612/12/28\")\n",
    "neptune = ephem.Neptune(\"1612/12/28\")\n",
    "\n",
    "rastojanje = ephem.separation(jupiter, neptune)\n",
    "\n",
    "print(f\"Uglovno rastojanje između Jupitera i Neptuna je tada iznosilo {rastojanje}\\n\")"
   ]
  },
  {
   "cell_type": "markdown",
   "id": "0f88692f",
   "metadata": {},
   "source": [
    "**3. Odrediti koji put pređe Mars u toku jednog dana krećući se po perihelu, a potom i po afelu. Utvrditi blizu koje od ovih tačaka se kreće brže.** \n",
    "[Napomena: koristiti heliocentrične koordinate] (Za ovo je neophodno naći datume kada se poslednji put našao u ovim tačkama)"
   ]
  },
  {
   "cell_type": "code",
   "execution_count": null,
   "id": "454156e8",
   "metadata": {},
   "outputs": [],
   "source": [
    "import datetime\n",
    "\n",
    "def getLastApoPeri(body):\n",
    "    body.compute(\"2022\")\n",
    "    \n",
    "    last_perihelion = \"\"\n",
    "    min_distance = mars.sun_distance\n",
    "\n",
    "    last_aphelion = \"\"\n",
    "    max_distance = mars.sun_distance\n",
    "\n",
    "    now = datetime.datetime.now()\n",
    "    for i in range(687):\n",
    "        offset = datetime.timedelta(days=i)\n",
    "        mars.compute(now-offset)\n",
    "\n",
    "        if mars.sun_distance < min_distance:\n",
    "            min_distance = mars.sun_distance\n",
    "            last_perihelion = now - offset\n",
    "\n",
    "        if mars.sun_distance > max_distance:\n",
    "            max_distance = mars.sun_distance\n",
    "            last_aphelion = now - offset\n",
    "            \n",
    "    return last_aphelion, last_perihelion\n",
    "    \n",
    "\n",
    "def mars_daily_separation(date):\n",
    "    one_day = ephem.Mars(date)\n",
    "    \n",
    "    next_day = ephem.Mars(date + datetime.timedelta(days=1))\n",
    "\n",
    "    return ephem.separation(one_day, next_day)\n",
    "    \n",
    "    \n",
    "    \n",
    "mars = ephem.Mars()\n",
    "mars1 = ephem.Mars()\n",
    "last_aphelion, last_perihelion = getLastApoPeri(mars)\n",
    "\n",
    "print(\"Rastojanje koje Mars dnevno pređe u perihelu: \")\n",
    "print(mars_daily_separation(last_perihelion))\n",
    "\n",
    "print(\"Rastojanje koje Mars dnevno pređe u afelu: \")\n",
    "print(mars_daily_separation(last_aphelion))\n",
    "\n",
    "print(\"\\nDakle, brže se kreće u perihelu.\\n\")"
   ]
  },
  {
   "cell_type": "markdown",
   "id": "ac57f2e5",
   "metadata": {},
   "source": [
    "**4. Odrediti deklinaciju Marsa na današnji datum i dati rezultat u različitim formatima: dd:mm:ss (string) i radijanima (float).**"
   ]
  },
  {
   "cell_type": "code",
   "execution_count": null,
   "id": "14a87593",
   "metadata": {},
   "outputs": [],
   "source": [
    "mars = ephem.Mars()\n",
    "mars.compute()\n",
    "\n",
    "print(\"Deklinacija Marsa danas:\")\n",
    "print(f\"\\tU stepenima: {mars.dec}\")\n",
    "print(f\"\\tU radijanima: {float(mars.dec)}\\n\")"
   ]
  },
  {
   "cell_type": "markdown",
   "id": "707b6647",
   "metadata": {},
   "source": [
    "**5. Koristeći prethodno urađen zadatak, odrediti rastojanje Marsa u afelu u a.j., a zatim odrediti koju površinu prebriše u toku jednog dana (pps. pravougli trougao). Isto to odraditi i za perihel i pokazati da važi 2. Keplerov zakon.**"
   ]
  },
  {
   "cell_type": "code",
   "execution_count": null,
   "id": "58ded00d",
   "metadata": {},
   "outputs": [],
   "source": [
    "mars = ephem.Mars()\n",
    "mars1 = ephem.Mars()\n",
    "\n",
    "last_aphelion, last_perihelion = getLastApoPeri(mars)\n",
    "\n",
    "mars.compute(last_aphelion)\n",
    "mars1.compute(last_aphelion + datetime.timedelta(days=1))\n",
    "print(mars.sun_distance*mars.sun_distance*ephem.separation((mars.hlon, mars.hlat), (mars1.hlon, mars1.hlat))/2)\n",
    "\n",
    "mars.compute(last_perihelion)\n",
    "mars1.compute(last_perihelion + datetime.timedelta(days=1))\n",
    "print(mars.sun_distance*mars.sun_distance*ephem.separation((mars.hlon, mars.hlat), (mars1.hlon, mars1.hlat))/2)"
   ]
  },
  {
   "cell_type": "markdown",
   "id": "2b71dd5d",
   "metadata": {},
   "source": [
    "**6. Odrediti i odštampati UTC i lokalno vreme za Beograd na današnji dan.**"
   ]
  },
  {
   "cell_type": "code",
   "execution_count": 75,
   "id": "16681d02",
   "metadata": {},
   "outputs": [
    {
     "name": "stdout",
     "output_type": "stream",
     "text": [
      "UTC: 2022/11/3 11:16:31\n",
      "BGD: 2022-11-03 12:16:31\n"
     ]
    }
   ],
   "source": [
    "bg = ephem.Observer()\n",
    "\n",
    "print(f\"UTC: {ephem.now()}\")\n",
    "bg.lon = 20.457273\n",
    "bg.lat = 44.787197\n",
    "print(f\"BGD: {ephem.localtime(bg.date)}\")"
   ]
  },
  {
   "cell_type": "markdown",
   "id": "fedbffd5",
   "metadata": {},
   "source": [
    "**7. Odrediti današnji datum u broju dana čiji je početak perenja počeo 31. decembra 1899. godine u podne. Potom koristeći se tim rezultatom ponovo odštampati naredni dan.**"
   ]
  },
  {
   "cell_type": "code",
   "execution_count": 74,
   "id": "3d2d36ae",
   "metadata": {},
   "outputs": [
    {
     "name": "stdout",
     "output_type": "stream",
     "text": [
      "PyEphem datume predstavlja kao broj dana od 31.12.1899. godine u podne\n",
      "Taj broj dobijamo iz funkcije ephem.now()\n",
      "44866.9697337963\n",
      "2022/11/3 11:16:25\n",
      "44867.9697337963\n",
      "2022/11/4 11:16:25\n"
     ]
    }
   ],
   "source": [
    "print(\"PyEphem datume predstavlja kao broj dana od 31.12.1899. godine u podne\")\n",
    "print(\"Taj broj dobijamo iz funkcije ephem.now()\")\n",
    "\n",
    "print(float(ephem.now()))\n",
    "print(str(ephem.now()))\n",
    "\n",
    "print(float(ephem.now()+1))\n",
    "print(ephem.Date(ephem.now()+1))"
   ]
  },
  {
   "cell_type": "markdown",
   "id": "54d67334",
   "metadata": {},
   "source": [
    "**8. Definisati današnji datum pomoću float, string i tuple tipa podataka.**"
   ]
  },
  {
   "cell_type": "code",
   "execution_count": 73,
   "id": "e7a2b305",
   "metadata": {},
   "outputs": [
    {
     "name": "stdout",
     "output_type": "stream",
     "text": [
      "44866.969618055555\n",
      "2022/11/3 11:16:15\n",
      "(2022, 11, 3, 11, 16, 15.0)\n"
     ]
    }
   ],
   "source": [
    "print(float(ephem.now()))\n",
    "print(str(ephem.now()))\n",
    "print(ephem.now().tuple())"
   ]
  },
  {
   "cell_type": "markdown",
   "id": "5e241df8",
   "metadata": {},
   "source": [
    "**9. Definisati posmatrača u Beogradu na datum i vreme početka ovonedeljnih vežbi, a potom odrediti položaje Sunca i Meseca u horizontskom koordinatnom sistemu za tog posmatrača**"
   ]
  },
  {
   "cell_type": "code",
   "execution_count": 72,
   "id": "f29a55aa",
   "metadata": {},
   "outputs": [
    {
     "name": "stdout",
     "output_type": "stream",
     "text": [
      "Sunce:\n",
      " Az: 145:18:17.7\n",
      " H: 25:38:05.6\n",
      "\n",
      "Mesec:\n",
      " Az: 128:53:34.4\n",
      " H: 5:49:48.4\n",
      "\n"
     ]
    }
   ],
   "source": [
    "bg = ephem.Observer()\n",
    "bg.lon = \"20.457273\"\n",
    "bg.lat = \"44.787197\"\n",
    "bg.date = (2022, 10, 27, 8, 15, 0) #UTC = CEST - 2 (letnje računanje)\n",
    "\n",
    "sun = ephem.Sun(bg)\n",
    "print(f\"Sunce:\\n Az: {sun.az}\\n H: {sun.alt}\\n\")\n",
    "\n",
    "moon = ephem.Moon(bg)\n",
    "print(f\"Mesec:\\n Az: {moon.az}\\n H: {moon.alt}\\n\")"
   ]
  },
  {
   "cell_type": "markdown",
   "id": "549860e7",
   "metadata": {},
   "source": [
    "**10. Uraditi isto kao i u prethodnom zadatku (Begorad), samo za datum i vreme: 25. oktobar 2022. u 12:25 kada se dogodilo pomračenje Sunca. Na osnovu prividne veličine objekata, odrediti kom tipu ovo pomračenje pripada: delimičnom, prstenastom ili potpunom.**"
   ]
  },
  {
   "cell_type": "code",
   "execution_count": null,
   "id": "17181683",
   "metadata": {},
   "outputs": [],
   "source": []
  },
  {
   "cell_type": "code",
   "execution_count": 68,
   "id": "6b69863f",
   "metadata": {},
   "outputs": [
    {
     "name": "stdout",
     "output_type": "stream",
     "text": [
      "Sunce:\n",
      " Az: 197:10:44.5\n",
      " H: 31:28:23.2\n",
      "\n",
      "1929.989501953125\n",
      "Mesec:\n",
      " Az: 3.432562828063965\n",
      " H: 31:36:47.0\n",
      "\n",
      "1924.995849609375\n"
     ]
    },
    {
     "data": {
      "image/png": "[encoded data removed]",
      "text/plain": [
       "<Figure size 640x480 with 1 Axes>"
      ]
     },
     "metadata": {},
     "output_type": "display_data"
    }
   ],
   "source": [
    "import matplotlib.pyplot as plt\n",
    "import numpy as np\n",
    "\n",
    "bg.date = (2022, 10, 25, 11, 22, 0) #UTC = CEST - 2 (letnje računanje)\n",
    "sun = ephem.Sun(bg)\n",
    "print(f\"Sunce:\\n Az: {sun.az}\\n H: {sun.alt}\\n\")\n",
    "print(sun.size)\n",
    "\n",
    "moon = ephem.Moon(bg)\n",
    "print(f\"Mesec:\\n Az: {float(moon.az)}\\n H: {moon.alt}\\n\")\n",
    "print(moon.size)\n",
    "\n",
    "theta = np.linspace(0, 2*np.pi, 100)\n",
    "r = sun.size/3600*np.pi/180\n",
    "x = sun.az + r*np.cos(theta)\n",
    "y = sun.alt + r*np.sin(theta)\n",
    "plt.plot(x, y, label=\"Sunce\")\n",
    "\n",
    "r = moon.size/3600*np.pi/180\n",
    "x = moon.az + r*np.cos(theta)\n",
    "y = moon.alt + r*np.sin(theta)\n",
    "plt.plot(x, y, label=\"Mesec\")\n",
    "plt.axis(\"equal\")\n",
    "plt.legend()\n",
    "plt.show()"
   ]
  },
  {
   "cell_type": "markdown",
   "id": "7eb05d13",
   "metadata": {},
   "source": [
    "**11. Odrediti promenu prividne uglovne brzine Sunca tokom zalaska. Da li račun uzima u obzir prelamanje svetlosti u atmosferi? Potom promeniti vrednosti pritiska definisanog posmatrača na vrednosti 0. Da li sada uzima u obzir prelamanje svetlosti?**"
   ]
  },
  {
   "cell_type": "code",
   "execution_count": 70,
   "id": "3a9343a3",
   "metadata": {},
   "outputs": [],
   "source": [
    "sun = ephem.Sun()\n",
    "bg = ephem.Observer()\n",
    "bg.lat = '44.787197'\n",
    "bg.lon = '20.457273'\n",
    "\n",
    "bg.date = \"2022/11/3 15:22\"\n",
    "bg.temperature = 0\n",
    "sun.compute(bg)\n",
    "\n",
    "\n"
   ]
  },
  {
   "cell_type": "markdown",
   "id": "cdf59561",
   "metadata": {},
   "source": [
    "**12. Odrediti koje od planeta su vidljive za definisanog posmatrača iz Beograda? Odštampati njihove horizontske koordinate i magnitude.**"
   ]
  },
  {
   "cell_type": "code",
   "execution_count": 71,
   "id": "edee453e",
   "metadata": {},
   "outputs": [
    {
     "name": "stdout",
     "output_type": "stream",
     "text": [
      "Planete vidljive iz Beograda sada:\n",
      "\n",
      "Mercury\n",
      "Az: 198:32:43.7\n",
      "H: 29:53:39.4\n",
      "M: -1.01\n",
      "\n",
      "Venus\n",
      "Az: 191:27:08.9\n",
      "H: 29:08:15.6\n",
      "M: -3.8\n",
      "\n"
     ]
    }
   ],
   "source": [
    "bg = ephem.Observer()\n",
    "bg.lon = \"20.457273\"\n",
    "bg.lat = \"44.787197\"\n",
    "\n",
    "def print_if_visible(body):\n",
    "    body.compute(bg)\n",
    "    \n",
    "    if body.alt < 0:\n",
    "        return\n",
    "    \n",
    "    print(body.name)\n",
    "    print(f\"Az: {body.az}\")\n",
    "    print(f\"H: {body.alt}\")\n",
    "    print(f\"M: {body.mag}\\n\")\n",
    "\n",
    "\n",
    "print(\"Planete vidljive iz Beograda sada:\\n\")\n",
    "print_if_visible(ephem.Mercury())\n",
    "print_if_visible(ephem.Venus())\n",
    "print_if_visible(ephem.Mars())\n",
    "print_if_visible(ephem.Jupiter())\n",
    "print_if_visible(ephem.Saturn())\n",
    "print_if_visible(ephem.Uranus())\n",
    "print_if_visible(ephem.Neptune())"
   ]
  },
  {
   "cell_type": "markdown",
   "id": "04663add",
   "metadata": {},
   "source": [
    "**13. Definisati posmatrača u Beogradu i u odnosu na tog posmatrača pozvati zvezdu Polaris. potom odrediti deklinaciju:**\n",
    "- a) na današnji dan za epohu 2000;\n",
    "- b) na današnji dan za epohu 1000;\n",
    "- c) na prvi dan 1000. godine za epohu 2000;\n",
    "- c) na prvi dan 1000. godine za epohu 1000.\n",
    "\n",
    "**Koji je razlog različitih vrednosti ovih deklinacija?**"
   ]
  },
  {
   "cell_type": "code",
   "execution_count": 29,
   "id": "3374b749",
   "metadata": {},
   "outputs": [
    {
     "name": "stdout",
     "output_type": "stream",
     "text": [
      "89:15:50.5\n",
      "83:47:35.8\n",
      "89:16:02.5\n",
      "83:47:25.5\n"
     ]
    }
   ],
   "source": [
    "polaris = ephem.star(\"Polaris\")\n",
    "\n",
    "polaris.compute(epoch=\"2000\")\n",
    "print(polaris.a_dec)\n",
    "\n",
    "polaris.compute(epoch=\"1000\")\n",
    "print(polaris.a_dec)\n",
    "\n",
    "polaris.compute(\"1000\", epoch=\"2000\")\n",
    "print(polaris.a_dec)\n",
    "\n",
    "polaris.compute(\"1000\", epoch=\"1000\")\n",
    "print(polaris.a_dec)"
   ]
  }
 ],
 "metadata": {
  "kernelspec": {
   "display_name": "Python 3 (ipykernel)",
   "language": "python",
   "name": "python3"
  },
  "language_info": {
   "codemirror_mode": {
    "name": "ipython",
    "version": 3
   },
   "file_extension": ".py",
   "mimetype": "text/x-python",
   "name": "python",
   "nbconvert_exporter": "python",
   "pygments_lexer": "ipython3",
   "version": "3.10.7"
  }
 },
 "nbformat": 4,
 "nbformat_minor": 5
}
